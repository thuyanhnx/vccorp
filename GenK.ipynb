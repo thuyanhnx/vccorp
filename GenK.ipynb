{
 "cells": [
  {
   "cell_type": "code",
   "execution_count": 90,
   "id": "b7619ac8",
   "metadata": {},
   "outputs": [],
   "source": [
    "import pandas as pd\n",
    "import numpy as np"
   ]
  },
  {
   "cell_type": "code",
   "execution_count": 91,
   "id": "541d0f40",
   "metadata": {},
   "outputs": [
    {
     "name": "stderr",
     "output_type": "stream",
     "text": [
      "C:\\Users\\Admin\\anaconda3\\lib\\site-packages\\IPython\\core\\interactiveshell.py:3165: DtypeWarning: Columns (1) have mixed types.Specify dtype option on import or set low_memory=False.\n",
      "  has_raised = await self.run_ast_nodes(code_ast.body, cell_name,\n"
     ]
    }
   ],
   "source": [
    "df = pd.read_csv(\"ls_user_active_genk_2022-03-18_2022-03-24.csv\")"
   ]
  },
  {
   "cell_type": "code",
   "execution_count": 92,
   "id": "d96b63c4",
   "metadata": {},
   "outputs": [
    {
     "data": {
      "text/html": [
       "<div>\n",
       "<style scoped>\n",
       "    .dataframe tbody tr th:only-of-type {\n",
       "        vertical-align: middle;\n",
       "    }\n",
       "\n",
       "    .dataframe tbody tr th {\n",
       "        vertical-align: top;\n",
       "    }\n",
       "\n",
       "    .dataframe thead th {\n",
       "        text-align: right;\n",
       "    }\n",
       "</style>\n",
       "<table border=\"1\" class=\"dataframe\">\n",
       "  <thead>\n",
       "    <tr style=\"text-align: right;\">\n",
       "      <th></th>\n",
       "      <th>Unnamed: 0</th>\n",
       "      <th>guid</th>\n",
       "      <th>total_date_active</th>\n",
       "      <th>total_item_click</th>\n",
       "      <th>ls_item_click</th>\n",
       "      <th>ls_item_view</th>\n",
       "    </tr>\n",
       "  </thead>\n",
       "  <tbody>\n",
       "    <tr>\n",
       "      <th>0</th>\n",
       "      <td>0</td>\n",
       "      <td>0.8332557305994528</td>\n",
       "      <td>1</td>\n",
       "      <td>0</td>\n",
       "      <td>NaN</td>\n",
       "      <td>['h3img-20211213150627024,h3img-20211209225628...</td>\n",
       "    </tr>\n",
       "    <tr>\n",
       "      <th>1</th>\n",
       "      <td>1</td>\n",
       "      <td>1000063981245978332</td>\n",
       "      <td>1</td>\n",
       "      <td>2</td>\n",
       "      <td>['2180_780-h3-2022031701101843', '3287_223-gen...</td>\n",
       "      <td>['h1-2022031022254806,h1-2022031022254806,h1-2...</td>\n",
       "    </tr>\n",
       "    <tr>\n",
       "      <th>2</th>\n",
       "      <td>2</td>\n",
       "      <td>1000068891963281628</td>\n",
       "      <td>1</td>\n",
       "      <td>1</td>\n",
       "      <td>['5194_274-h3-20220322125915219']</td>\n",
       "      <td>['h3-12', 'h3-20220318004035845']</td>\n",
       "    </tr>\n",
       "    <tr>\n",
       "      <th>3</th>\n",
       "      <td>3</td>\n",
       "      <td>1000071951953423504</td>\n",
       "      <td>1</td>\n",
       "      <td>0</td>\n",
       "      <td>NaN</td>\n",
       "      <td>['h3-20220322133617546,h3-13,h3-12,h3-11,h3img...</td>\n",
       "    </tr>\n",
       "    <tr>\n",
       "      <th>4</th>\n",
       "      <td>4</td>\n",
       "      <td>1000177551999945308</td>\n",
       "      <td>1</td>\n",
       "      <td>0</td>\n",
       "      <td>NaN</td>\n",
       "      <td>['h3-20220226104543855']</td>\n",
       "    </tr>\n",
       "  </tbody>\n",
       "</table>\n",
       "</div>"
      ],
      "text/plain": [
       "   Unnamed: 0                 guid  total_date_active  total_item_click  \\\n",
       "0           0   0.8332557305994528                  1                 0   \n",
       "1           1  1000063981245978332                  1                 2   \n",
       "2           2  1000068891963281628                  1                 1   \n",
       "3           3  1000071951953423504                  1                 0   \n",
       "4           4  1000177551999945308                  1                 0   \n",
       "\n",
       "                                       ls_item_click  \\\n",
       "0                                                NaN   \n",
       "1  ['2180_780-h3-2022031701101843', '3287_223-gen...   \n",
       "2                  ['5194_274-h3-20220322125915219']   \n",
       "3                                                NaN   \n",
       "4                                                NaN   \n",
       "\n",
       "                                        ls_item_view  \n",
       "0  ['h3img-20211213150627024,h3img-20211209225628...  \n",
       "1  ['h1-2022031022254806,h1-2022031022254806,h1-2...  \n",
       "2                  ['h3-12', 'h3-20220318004035845']  \n",
       "3  ['h3-20220322133617546,h3-13,h3-12,h3-11,h3img...  \n",
       "4                           ['h3-20220226104543855']  "
      ]
     },
     "execution_count": 92,
     "metadata": {},
     "output_type": "execute_result"
    }
   ],
   "source": [
    "df.head()"
   ]
  },
  {
   "cell_type": "code",
   "execution_count": 93,
   "id": "399c522d",
   "metadata": {},
   "outputs": [
    {
     "data": {
      "text/html": [
       "<div>\n",
       "<style scoped>\n",
       "    .dataframe tbody tr th:only-of-type {\n",
       "        vertical-align: middle;\n",
       "    }\n",
       "\n",
       "    .dataframe tbody tr th {\n",
       "        vertical-align: top;\n",
       "    }\n",
       "\n",
       "    .dataframe thead th {\n",
       "        text-align: right;\n",
       "    }\n",
       "</style>\n",
       "<table border=\"1\" class=\"dataframe\">\n",
       "  <thead>\n",
       "    <tr style=\"text-align: right;\">\n",
       "      <th></th>\n",
       "      <th>Unnamed: 0</th>\n",
       "      <th>total_date_active</th>\n",
       "      <th>total_item_click</th>\n",
       "    </tr>\n",
       "  </thead>\n",
       "  <tbody>\n",
       "    <tr>\n",
       "      <th>count</th>\n",
       "      <td>390947.000000</td>\n",
       "      <td>390947.000000</td>\n",
       "      <td>390947.000000</td>\n",
       "    </tr>\n",
       "    <tr>\n",
       "      <th>mean</th>\n",
       "      <td>195473.000000</td>\n",
       "      <td>1.282084</td>\n",
       "      <td>0.569885</td>\n",
       "    </tr>\n",
       "    <tr>\n",
       "      <th>std</th>\n",
       "      <td>112856.822182</td>\n",
       "      <td>0.820760</td>\n",
       "      <td>2.469012</td>\n",
       "    </tr>\n",
       "    <tr>\n",
       "      <th>min</th>\n",
       "      <td>0.000000</td>\n",
       "      <td>1.000000</td>\n",
       "      <td>0.000000</td>\n",
       "    </tr>\n",
       "    <tr>\n",
       "      <th>25%</th>\n",
       "      <td>97736.500000</td>\n",
       "      <td>1.000000</td>\n",
       "      <td>0.000000</td>\n",
       "    </tr>\n",
       "    <tr>\n",
       "      <th>50%</th>\n",
       "      <td>195473.000000</td>\n",
       "      <td>1.000000</td>\n",
       "      <td>0.000000</td>\n",
       "    </tr>\n",
       "    <tr>\n",
       "      <th>75%</th>\n",
       "      <td>293209.500000</td>\n",
       "      <td>1.000000</td>\n",
       "      <td>0.000000</td>\n",
       "    </tr>\n",
       "    <tr>\n",
       "      <th>max</th>\n",
       "      <td>390946.000000</td>\n",
       "      <td>7.000000</td>\n",
       "      <td>269.000000</td>\n",
       "    </tr>\n",
       "  </tbody>\n",
       "</table>\n",
       "</div>"
      ],
      "text/plain": [
       "          Unnamed: 0  total_date_active  total_item_click\n",
       "count  390947.000000      390947.000000     390947.000000\n",
       "mean   195473.000000           1.282084          0.569885\n",
       "std    112856.822182           0.820760          2.469012\n",
       "min         0.000000           1.000000          0.000000\n",
       "25%     97736.500000           1.000000          0.000000\n",
       "50%    195473.000000           1.000000          0.000000\n",
       "75%    293209.500000           1.000000          0.000000\n",
       "max    390946.000000           7.000000        269.000000"
      ]
     },
     "execution_count": 93,
     "metadata": {},
     "output_type": "execute_result"
    }
   ],
   "source": [
    "df.describe()"
   ]
  },
  {
   "cell_type": "markdown",
   "id": "c078f1cb",
   "metadata": {},
   "source": [
    "1. Tạo cột bool"
   ]
  },
  {
   "cell_type": "code",
   "execution_count": 94,
   "id": "c26b631e",
   "metadata": {},
   "outputs": [],
   "source": [
    "df[\"active\"] = df[\"total_date_active\"] > 2\n",
    "df[\"click\"] = df[\"total_item_click\"] > 0.57"
   ]
  },
  {
   "cell_type": "markdown",
   "id": "f5ad8704",
   "metadata": {},
   "source": [
    "2. Tạo random sample 20k dòng "
   ]
  },
  {
   "cell_type": "code",
   "execution_count": 95,
   "id": "58392db4",
   "metadata": {},
   "outputs": [
    {
     "data": {
      "text/html": [
       "<div>\n",
       "<style scoped>\n",
       "    .dataframe tbody tr th:only-of-type {\n",
       "        vertical-align: middle;\n",
       "    }\n",
       "\n",
       "    .dataframe tbody tr th {\n",
       "        vertical-align: top;\n",
       "    }\n",
       "\n",
       "    .dataframe thead th {\n",
       "        text-align: right;\n",
       "    }\n",
       "</style>\n",
       "<table border=\"1\" class=\"dataframe\">\n",
       "  <thead>\n",
       "    <tr style=\"text-align: right;\">\n",
       "      <th></th>\n",
       "      <th>Unnamed: 0</th>\n",
       "      <th>guid</th>\n",
       "      <th>total_date_active</th>\n",
       "      <th>total_item_click</th>\n",
       "      <th>ls_item_click</th>\n",
       "      <th>ls_item_view</th>\n",
       "      <th>active</th>\n",
       "      <th>click</th>\n",
       "    </tr>\n",
       "  </thead>\n",
       "  <tbody>\n",
       "    <tr>\n",
       "      <th>306184</th>\n",
       "      <td>306184</td>\n",
       "      <td>7344155545250292875</td>\n",
       "      <td>1</td>\n",
       "      <td>0</td>\n",
       "      <td>NaN</td>\n",
       "      <td>['h3-20220314182007409,h3img-20220314230650429...</td>\n",
       "      <td>False</td>\n",
       "      <td>False</td>\n",
       "    </tr>\n",
       "    <tr>\n",
       "      <th>2088</th>\n",
       "      <td>2088</td>\n",
       "      <td>1045518850457477009</td>\n",
       "      <td>1</td>\n",
       "      <td>0</td>\n",
       "      <td>NaN</td>\n",
       "      <td>['h3img-2022031623515137,h3img-202203171129174...</td>\n",
       "      <td>False</td>\n",
       "      <td>False</td>\n",
       "    </tr>\n",
       "    <tr>\n",
       "      <th>80227</th>\n",
       "      <td>80227</td>\n",
       "      <td>2647993603711997606</td>\n",
       "      <td>1</td>\n",
       "      <td>0</td>\n",
       "      <td>NaN</td>\n",
       "      <td>['h3-20220226104543855,h3img-20211213150627024...</td>\n",
       "      <td>False</td>\n",
       "      <td>False</td>\n",
       "    </tr>\n",
       "    <tr>\n",
       "      <th>317663</th>\n",
       "      <td>317663</td>\n",
       "      <td>7575080131907214328</td>\n",
       "      <td>3</td>\n",
       "      <td>3</td>\n",
       "      <td>['3220_361-h3-20220309152209125', '10936_333-h...</td>\n",
       "      <td>['h3-20220309152209125,h3img-20220317135733827...</td>\n",
       "      <td>True</td>\n",
       "      <td>True</td>\n",
       "    </tr>\n",
       "    <tr>\n",
       "      <th>247896</th>\n",
       "      <td>247896</td>\n",
       "      <td>6136529332251334930</td>\n",
       "      <td>1</td>\n",
       "      <td>0</td>\n",
       "      <td>NaN</td>\n",
       "      <td>['h3-20160429160957397,h3-20150322224229753']</td>\n",
       "      <td>False</td>\n",
       "      <td>False</td>\n",
       "    </tr>\n",
       "  </tbody>\n",
       "</table>\n",
       "</div>"
      ],
      "text/plain": [
       "        Unnamed: 0                 guid  total_date_active  total_item_click  \\\n",
       "306184      306184  7344155545250292875                  1                 0   \n",
       "2088          2088  1045518850457477009                  1                 0   \n",
       "80227        80227  2647993603711997606                  1                 0   \n",
       "317663      317663  7575080131907214328                  3                 3   \n",
       "247896      247896  6136529332251334930                  1                 0   \n",
       "\n",
       "                                            ls_item_click  \\\n",
       "306184                                                NaN   \n",
       "2088                                                  NaN   \n",
       "80227                                                 NaN   \n",
       "317663  ['3220_361-h3-20220309152209125', '10936_333-h...   \n",
       "247896                                                NaN   \n",
       "\n",
       "                                             ls_item_view  active  click  \n",
       "306184  ['h3-20220314182007409,h3img-20220314230650429...   False  False  \n",
       "2088    ['h3img-2022031623515137,h3img-202203171129174...   False  False  \n",
       "80227   ['h3-20220226104543855,h3img-20211213150627024...   False  False  \n",
       "317663  ['h3-20220309152209125,h3img-20220317135733827...    True   True  \n",
       "247896      ['h3-20160429160957397,h3-20150322224229753']   False  False  "
      ]
     },
     "execution_count": 95,
     "metadata": {},
     "output_type": "execute_result"
    }
   ],
   "source": [
    "sample = df.sample(n=20000, random_state=1, replace=False)\n",
    "sample.head()"
   ]
  },
  {
   "cell_type": "markdown",
   "id": "290ce7b0",
   "metadata": {},
   "source": [
    "3. Tạo df_A"
   ]
  },
  {
   "cell_type": "code",
   "execution_count": 96,
   "id": "1e996431",
   "metadata": {},
   "outputs": [
    {
     "data": {
      "text/html": [
       "<div>\n",
       "<style scoped>\n",
       "    .dataframe tbody tr th:only-of-type {\n",
       "        vertical-align: middle;\n",
       "    }\n",
       "\n",
       "    .dataframe tbody tr th {\n",
       "        vertical-align: top;\n",
       "    }\n",
       "\n",
       "    .dataframe thead th {\n",
       "        text-align: right;\n",
       "    }\n",
       "</style>\n",
       "<table border=\"1\" class=\"dataframe\">\n",
       "  <thead>\n",
       "    <tr style=\"text-align: right;\">\n",
       "      <th></th>\n",
       "      <th>Unnamed: 0</th>\n",
       "      <th>guid</th>\n",
       "      <th>total_date_active</th>\n",
       "      <th>total_item_click</th>\n",
       "      <th>ls_item_click</th>\n",
       "      <th>ls_item_view</th>\n",
       "      <th>active</th>\n",
       "      <th>click</th>\n",
       "    </tr>\n",
       "  </thead>\n",
       "  <tbody>\n",
       "    <tr>\n",
       "      <th>92788</th>\n",
       "      <td>92788</td>\n",
       "      <td>2922818661457658539</td>\n",
       "      <td>1</td>\n",
       "      <td>0</td>\n",
       "      <td>NaN</td>\n",
       "      <td>['h3-20220320111803283']</td>\n",
       "      <td>False</td>\n",
       "      <td>False</td>\n",
       "    </tr>\n",
       "    <tr>\n",
       "      <th>81316</th>\n",
       "      <td>81316</td>\n",
       "      <td>2675875011907752447</td>\n",
       "      <td>2</td>\n",
       "      <td>0</td>\n",
       "      <td>NaN</td>\n",
       "      <td>['h3img-2022031008372972,h3img-202203041037273...</td>\n",
       "      <td>False</td>\n",
       "      <td>False</td>\n",
       "    </tr>\n",
       "    <tr>\n",
       "      <th>348180</th>\n",
       "      <td>348180</td>\n",
       "      <td>8215514642884080953</td>\n",
       "      <td>1</td>\n",
       "      <td>0</td>\n",
       "      <td>NaN</td>\n",
       "      <td>['h3-20220226104543855']</td>\n",
       "      <td>False</td>\n",
       "      <td>False</td>\n",
       "    </tr>\n",
       "    <tr>\n",
       "      <th>202635</th>\n",
       "      <td>202635</td>\n",
       "      <td>5180061291906477034</td>\n",
       "      <td>1</td>\n",
       "      <td>0</td>\n",
       "      <td>NaN</td>\n",
       "      <td>['h3-20220314182007409', 'h3img-20220314230650...</td>\n",
       "      <td>False</td>\n",
       "      <td>False</td>\n",
       "    </tr>\n",
       "    <tr>\n",
       "      <th>22885</th>\n",
       "      <td>22885</td>\n",
       "      <td>1470333201736555824</td>\n",
       "      <td>1</td>\n",
       "      <td>0</td>\n",
       "      <td>NaN</td>\n",
       "      <td>['h3-20220311115922186,h3-20220316015722012', ...</td>\n",
       "      <td>False</td>\n",
       "      <td>False</td>\n",
       "    </tr>\n",
       "  </tbody>\n",
       "</table>\n",
       "</div>"
      ],
      "text/plain": [
       "        Unnamed: 0                 guid  total_date_active  total_item_click  \\\n",
       "92788        92788  2922818661457658539                  1                 0   \n",
       "81316        81316  2675875011907752447                  2                 0   \n",
       "348180      348180  8215514642884080953                  1                 0   \n",
       "202635      202635  5180061291906477034                  1                 0   \n",
       "22885        22885  1470333201736555824                  1                 0   \n",
       "\n",
       "       ls_item_click                                       ls_item_view  \\\n",
       "92788            NaN                           ['h3-20220320111803283']   \n",
       "81316            NaN  ['h3img-2022031008372972,h3img-202203041037273...   \n",
       "348180           NaN                           ['h3-20220226104543855']   \n",
       "202635           NaN  ['h3-20220314182007409', 'h3img-20220314230650...   \n",
       "22885            NaN  ['h3-20220311115922186,h3-20220316015722012', ...   \n",
       "\n",
       "        active  click  \n",
       "92788    False  False  \n",
       "81316    False  False  \n",
       "348180   False  False  \n",
       "202635   False  False  \n",
       "22885    False  False  "
      ]
     },
     "execution_count": 96,
     "metadata": {},
     "output_type": "execute_result"
    }
   ],
   "source": [
    "df_A = sample.groupby([\"active\", \"click\"]).sample(frac=0.7, random_state=1, replace=True)\n",
    "df_A = df_A.drop_duplicates()\n",
    "df_A.head()"
   ]
  },
  {
   "cell_type": "markdown",
   "id": "0af56956",
   "metadata": {},
   "source": [
    "Check value"
   ]
  },
  {
   "cell_type": "code",
   "execution_count": 97,
   "id": "ab5a0fda",
   "metadata": {},
   "outputs": [
    {
     "data": {
      "text/plain": [
       "10056"
      ]
     },
     "execution_count": 97,
     "metadata": {},
     "output_type": "execute_result"
    }
   ],
   "source": [
    "df_A[\"guid\"].count()"
   ]
  },
  {
   "cell_type": "code",
   "execution_count": 98,
   "id": "47586ee6",
   "metadata": {
    "scrolled": true
   },
   "outputs": [
    {
     "data": {
      "text/plain": [
       "False    9452\n",
       "True      604\n",
       "Name: active, dtype: int64"
      ]
     },
     "execution_count": 98,
     "metadata": {},
     "output_type": "execute_result"
    }
   ],
   "source": [
    "df_A[\"active\"].value_counts()"
   ]
  },
  {
   "cell_type": "code",
   "execution_count": 99,
   "id": "17ce98c1",
   "metadata": {},
   "outputs": [
    {
     "data": {
      "text/plain": [
       "False    8362\n",
       "True     1694\n",
       "Name: click, dtype: int64"
      ]
     },
     "execution_count": 99,
     "metadata": {},
     "output_type": "execute_result"
    }
   ],
   "source": [
    "df_A[\"click\"].value_counts()"
   ]
  },
  {
   "cell_type": "markdown",
   "id": "e8355cf4",
   "metadata": {},
   "source": [
    "4. Tạo df_B"
   ]
  },
  {
   "cell_type": "code",
   "execution_count": 100,
   "id": "c0b7fc32",
   "metadata": {},
   "outputs": [
    {
     "data": {
      "text/html": [
       "<div>\n",
       "<style scoped>\n",
       "    .dataframe tbody tr th:only-of-type {\n",
       "        vertical-align: middle;\n",
       "    }\n",
       "\n",
       "    .dataframe tbody tr th {\n",
       "        vertical-align: top;\n",
       "    }\n",
       "\n",
       "    .dataframe thead th {\n",
       "        text-align: right;\n",
       "    }\n",
       "</style>\n",
       "<table border=\"1\" class=\"dataframe\">\n",
       "  <thead>\n",
       "    <tr style=\"text-align: right;\">\n",
       "      <th></th>\n",
       "      <th>Unnamed: 0</th>\n",
       "      <th>guid</th>\n",
       "      <th>total_date_active</th>\n",
       "      <th>total_item_click</th>\n",
       "      <th>ls_item_click</th>\n",
       "      <th>ls_item_view</th>\n",
       "      <th>active</th>\n",
       "      <th>click</th>\n",
       "    </tr>\n",
       "  </thead>\n",
       "  <tbody>\n",
       "    <tr>\n",
       "      <th>82300</th>\n",
       "      <td>82300</td>\n",
       "      <td>2698490172112613271</td>\n",
       "      <td>1</td>\n",
       "      <td>0</td>\n",
       "      <td>NaN</td>\n",
       "      <td>['h1-20220303204529555']</td>\n",
       "      <td>False</td>\n",
       "      <td>False</td>\n",
       "    </tr>\n",
       "    <tr>\n",
       "      <th>226889</th>\n",
       "      <td>226889</td>\n",
       "      <td>5693970771984329912</td>\n",
       "      <td>1</td>\n",
       "      <td>0</td>\n",
       "      <td>NaN</td>\n",
       "      <td>['h3-20220317165113448', 'h3img-20220314113611...</td>\n",
       "      <td>False</td>\n",
       "      <td>False</td>\n",
       "    </tr>\n",
       "    <tr>\n",
       "      <th>328817</th>\n",
       "      <td>328817</td>\n",
       "      <td>7815707872884428031</td>\n",
       "      <td>1</td>\n",
       "      <td>0</td>\n",
       "      <td>NaN</td>\n",
       "      <td>['h3-20220314182007409']</td>\n",
       "      <td>False</td>\n",
       "      <td>False</td>\n",
       "    </tr>\n",
       "    <tr>\n",
       "      <th>17815</th>\n",
       "      <td>17815</td>\n",
       "      <td>1364479551953161042</td>\n",
       "      <td>1</td>\n",
       "      <td>0</td>\n",
       "      <td>NaN</td>\n",
       "      <td>['h3-20220316181010757,h3-2022,h3-12,h3img-202...</td>\n",
       "      <td>False</td>\n",
       "      <td>False</td>\n",
       "    </tr>\n",
       "    <tr>\n",
       "      <th>375265</th>\n",
       "      <td>375265</td>\n",
       "      <td>8772230911906545723</td>\n",
       "      <td>1</td>\n",
       "      <td>0</td>\n",
       "      <td>NaN</td>\n",
       "      <td>['h3img-20211213150627024,h3img-20211209225628...</td>\n",
       "      <td>False</td>\n",
       "      <td>False</td>\n",
       "    </tr>\n",
       "  </tbody>\n",
       "</table>\n",
       "</div>"
      ],
      "text/plain": [
       "        Unnamed: 0                 guid  total_date_active  total_item_click  \\\n",
       "82300        82300  2698490172112613271                  1                 0   \n",
       "226889      226889  5693970771984329912                  1                 0   \n",
       "328817      328817  7815707872884428031                  1                 0   \n",
       "17815        17815  1364479551953161042                  1                 0   \n",
       "375265      375265  8772230911906545723                  1                 0   \n",
       "\n",
       "       ls_item_click                                       ls_item_view  \\\n",
       "82300            NaN                           ['h1-20220303204529555']   \n",
       "226889           NaN  ['h3-20220317165113448', 'h3img-20220314113611...   \n",
       "328817           NaN                           ['h3-20220314182007409']   \n",
       "17815            NaN  ['h3-20220316181010757,h3-2022,h3-12,h3img-202...   \n",
       "375265           NaN  ['h3img-20211213150627024,h3img-20211209225628...   \n",
       "\n",
       "        active  click  \n",
       "82300    False  False  \n",
       "226889   False  False  \n",
       "328817   False  False  \n",
       "17815    False  False  \n",
       "375265   False  False  "
      ]
     },
     "execution_count": 100,
     "metadata": {},
     "output_type": "execute_result"
    }
   ],
   "source": [
    "df_B = sample.groupby([\"active\", \"click\"]).sample(frac=0.7, random_state=2, replace=True)\n",
    "df_B = df_B.drop_duplicates()\n",
    "df_B.head()"
   ]
  },
  {
   "cell_type": "code",
   "execution_count": 101,
   "id": "bb77fa4c",
   "metadata": {},
   "outputs": [
    {
     "data": {
      "text/plain": [
       "10074"
      ]
     },
     "execution_count": 101,
     "metadata": {},
     "output_type": "execute_result"
    }
   ],
   "source": [
    "df_B[\"guid\"].nunique()"
   ]
  },
  {
   "cell_type": "code",
   "execution_count": 102,
   "id": "3e44094b",
   "metadata": {},
   "outputs": [
    {
     "data": {
      "text/plain": [
       "False    9455\n",
       "True      619\n",
       "Name: active, dtype: int64"
      ]
     },
     "execution_count": 102,
     "metadata": {},
     "output_type": "execute_result"
    }
   ],
   "source": [
    "df_B[\"active\"].value_counts()"
   ]
  },
  {
   "cell_type": "code",
   "execution_count": 103,
   "id": "ff227af7",
   "metadata": {},
   "outputs": [
    {
     "data": {
      "text/plain": [
       "False    8397\n",
       "True     1677\n",
       "Name: click, dtype: int64"
      ]
     },
     "execution_count": 103,
     "metadata": {},
     "output_type": "execute_result"
    }
   ],
   "source": [
    "df_B[\"click\"].value_counts()"
   ]
  },
  {
   "cell_type": "code",
   "execution_count": null,
   "id": "ba8e9542",
   "metadata": {},
   "outputs": [],
   "source": []
  }
 ],
 "metadata": {
  "kernelspec": {
   "display_name": "Python 3",
   "language": "python",
   "name": "python3"
  },
  "language_info": {
   "codemirror_mode": {
    "name": "ipython",
    "version": 3
   },
   "file_extension": ".py",
   "mimetype": "text/x-python",
   "name": "python",
   "nbconvert_exporter": "python",
   "pygments_lexer": "ipython3",
   "version": "3.8.8"
  }
 },
 "nbformat": 4,
 "nbformat_minor": 5
}
